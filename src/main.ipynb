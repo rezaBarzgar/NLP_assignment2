{
 "cells": [
  {
   "cell_type": "markdown",
   "source": [
    "# Assignment 2"
   ],
   "metadata": {
    "collapsed": false
   }
  },
  {
   "cell_type": "markdown",
   "source": [
    "### Importing Libs"
   ],
   "metadata": {
    "collapsed": false
   }
  },
  {
   "cell_type": "code",
   "execution_count": 1,
   "outputs": [],
   "source": [
    "import os\n",
    "import sys\n",
    "\n",
    "import pytrec_eval\n",
    "from utils.utils import *"
   ],
   "metadata": {
    "collapsed": false
   }
  },
  {
   "cell_type": "markdown",
   "source": [
    "### fetching nltk"
   ],
   "metadata": {
    "collapsed": false
   }
  },
  {
   "cell_type": "code",
   "execution_count": null,
   "outputs": [],
   "source": [
    "nltk.download('brown')"
   ],
   "metadata": {
    "collapsed": false,
    "pycharm": {
     "is_executing": true
    }
   }
  },
  {
   "cell_type": "code",
   "execution_count": 4,
   "outputs": [],
   "source": [
    "corpora = []\n",
    "model_name = 'news'\n",
    "\n",
    "# training models\n",
    "categories = ['news', 'adventure', 'belles_lettres', 'editorial', 'fiction', 'government', 'hobbies', 'humor',\n",
    "              'learned', 'lore', 'mystery', 'religion', 'reviews', 'romance', 'science_fiction']"
   ],
   "metadata": {
    "collapsed": false
   }
  },
  {
   "cell_type": "markdown",
   "source": [
    "## Generating and Saving Models"
   ],
   "metadata": {
    "collapsed": false
   }
  },
  {
   "cell_type": "code",
   "execution_count": null,
   "outputs": [],
   "source": [
    "for corpus in categories:\n",
    "    if corpus == 'news':\n",
    "        corpora = [[y.lower() for y in x] for x in brown.sents(categories='news')]\n",
    "    else:\n",
    "        corpora.extend([[y.lower() for y in x] for x in brown.sents(categories=corpus)])\n",
    "        model_name = model_name + '_' + corpus\n",
    "    print(f'number of sentences: {len(corpora)} ~~~~~~~~~ latest added category: {corpus}')\n",
    "\n",
    "    #     Generating Models\n",
    "    for number in [1, 2, 3, 5, 10]:  #\n",
    "        model = generate_trained_model(number, tokenized_text=corpora)\n",
    "        save_model(f\"../models/{number}-{model_name}.pkl\", model)"
   ],
   "metadata": {
    "collapsed": false
   }
  },
  {
   "cell_type": "markdown",
   "source": [
    "## Loading and Evaluating Models"
   ],
   "metadata": {
    "collapsed": false
   }
  },
  {
   "cell_type": "code",
   "execution_count": null,
   "outputs": [],
   "source": [
    "data = read_birkbeck('../data/APPLING1DAT.643')\n",
    "directory = '../models'\n",
    "for filename in os.listdir(directory):\n",
    "    f = os.path.join(directory, filename)\n",
    "    if os.path.isfile(f):\n",
    "        lang_model = load_model(f)\n",
    "        f = f.split('.')[-2].split('-')\n",
    "        number = int(f[0].split('\\\\')[-1])\n",
    "        name = f[1]\n",
    "        results = {}\n",
    "        for sentence in data:\n",
    "            prediction = predictions(model=lang_model, n=number, text=sentence[2])\n",
    "            success_at_1, success_at_5, success_at_10, success_at_all = success_at_k(correct_word=sentence[1],\n",
    "                                                                                     predictions_list=prediction)\n",
    "            results[f'{(sentence[0], sentence[1])}'] = {\n",
    "                'success_at_1': success_at_1,\n",
    "                'success_at_5': success_at_5,\n",
    "                'success_at_10': success_at_10,\n",
    "                'success_at_all': success_at_all,\n",
    "            }\n",
    "        with open('./output.txt', 'a') as file:\n",
    "            original_stdout = sys.stdout\n",
    "            sys.stdout = file\n",
    "            print(f'{number}ary model on {name} categories')\n",
    "            for measure in sorted(list(results[list(results.keys())[0]].keys())):\n",
    "                print(measure, 'average:', pytrec_eval.compute_aggregated_measure(\n",
    "                    measure, [query_measures[measure] for query_measures in results.values()]))\n",
    "            print('-' * 40)\n",
    "            sys.stdout = original_stdout"
   ],
   "metadata": {
    "collapsed": false
   }
  }
 ],
 "metadata": {
  "kernelspec": {
   "display_name": "Python 3",
   "language": "python",
   "name": "python3"
  },
  "language_info": {
   "codemirror_mode": {
    "name": "ipython",
    "version": 2
   },
   "file_extension": ".py",
   "mimetype": "text/x-python",
   "name": "python",
   "nbconvert_exporter": "python",
   "pygments_lexer": "ipython2",
   "version": "2.7.6"
  }
 },
 "nbformat": 4,
 "nbformat_minor": 0
}
